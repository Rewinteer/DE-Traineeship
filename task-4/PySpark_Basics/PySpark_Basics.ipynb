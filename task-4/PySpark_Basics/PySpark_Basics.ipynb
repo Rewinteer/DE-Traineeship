{
 "cells": [
  {
   "cell_type": "markdown",
   "id": "trained-moses",
   "metadata": {},
   "source": [
    "import libraries(I provide all libs that I need when make this tasks, if you need some external import them here)"
   ]
  },
  {
   "cell_type": "code",
   "execution_count": 1,
   "id": "induced-african",
   "metadata": {},
   "outputs": [],
   "source": [
    "import findspark\n",
    "import pyspark\n",
    "from pyspark.sql import SparkSession\n",
    "from pyspark.sql.types import StructType, StructField, IntegerType, StringType\n",
    "from pyspark.sql.functions import col\n",
    "from pyspark.sql.functions import max, avg, min\n",
    "from pyspark.sql.window import Window\n",
    "from pyspark.sql.functions import row_number\n",
    "from pyspark.sql.functions import when\n",
    "\n",
    "findspark.init()"
   ]
  },
  {
   "cell_type": "markdown",
   "id": "permanent-photographer",
   "metadata": {},
   "source": [
    "create local SparkSession"
   ]
  },
  {
   "cell_type": "code",
   "execution_count": 2,
   "id": "stock-partnership",
   "metadata": {},
   "outputs": [
    {
     "name": "stderr",
     "output_type": "stream",
     "text": [
      "25/01/27 10:35:32 WARN Utils: Your hostname, rewinteer-ThinkPad-T480 resolves to a loopback address: 127.0.1.1; using 10.202.33.209 instead (on interface wlp3s0)\n",
      "25/01/27 10:35:32 WARN Utils: Set SPARK_LOCAL_IP if you need to bind to another address\n",
      "Setting default log level to \"WARN\".\n",
      "To adjust logging level use sc.setLogLevel(newLevel). For SparkR, use setLogLevel(newLevel).\n",
      "25/01/27 10:35:33 WARN NativeCodeLoader: Unable to load native-hadoop library for your platform... using builtin-java classes where applicable\n"
     ]
    },
    {
     "name": "stdout",
     "output_type": "stream",
     "text": [
      "CPU times: user 19.1 ms, sys: 13.5 ms, total: 32.7 ms\n",
      "Wall time: 3.21 s\n"
     ]
    }
   ],
   "source": [
    "%%time\n",
    "spark = (\n",
    "    SparkSession.builder\n",
    "        .appName(\"Task 1\")\n",
    "        .getOrCreate()\n",
    ")"
   ]
  },
  {
   "cell_type": "markdown",
   "id": "juvenile-blame",
   "metadata": {},
   "source": [
    "read csv with inferschema"
   ]
  },
  {
   "cell_type": "code",
   "execution_count": 3,
   "id": "computational-liverpool",
   "metadata": {},
   "outputs": [
    {
     "name": "stdout",
     "output_type": "stream",
     "text": [
      "CPU times: user 2.36 ms, sys: 2.23 ms, total: 4.59 ms\n",
      "Wall time: 4.76 s\n"
     ]
    }
   ],
   "source": [
    "%%time\n",
    "df = spark.read.options(inferSchema=True, header=True).csv('ds_salaries.csv')"
   ]
  },
  {
   "cell_type": "markdown",
   "id": "stopped-dominant",
   "metadata": {},
   "source": [
    "read csv one more time with the same code and you will see that it almostly don't take time, because info already in SparkSession and it will not read nothing\n",
    "from this file"
   ]
  },
  {
   "cell_type": "code",
   "execution_count": 4,
   "id": "aging-neighborhood",
   "metadata": {},
   "outputs": [
    {
     "name": "stdout",
     "output_type": "stream",
     "text": [
      "CPU times: user 2.98 ms, sys: 919 μs, total: 3.9 ms\n",
      "Wall time: 393 ms\n"
     ]
    }
   ],
   "source": [
    "%%time\n",
    "df = spark.read.options(inferSchema=True, header=True).csv('ds_salaries.csv')"
   ]
  },
  {
   "cell_type": "markdown",
   "id": "mature-tomorrow",
   "metadata": {},
   "source": [
    "write schema of scv on screen"
   ]
  },
  {
   "cell_type": "code",
   "execution_count": 5,
   "id": "least-communications",
   "metadata": {},
   "outputs": [
    {
     "name": "stdout",
     "output_type": "stream",
     "text": [
      "root\n",
      " |-- _c0: integer (nullable = true)\n",
      " |-- work_year: integer (nullable = true)\n",
      " |-- experience_level: string (nullable = true)\n",
      " |-- employment_type: string (nullable = true)\n",
      " |-- job_title: string (nullable = true)\n",
      " |-- salary: integer (nullable = true)\n",
      " |-- salary_currency: string (nullable = true)\n",
      " |-- salary_in_usd: integer (nullable = true)\n",
      " |-- employee_residence: string (nullable = true)\n",
      " |-- remote_ratio: integer (nullable = true)\n",
      " |-- company_location: string (nullable = true)\n",
      " |-- company_size: string (nullable = true)\n",
      "\n"
     ]
    }
   ],
   "source": [
    "df.printSchema()"
   ]
  },
  {
   "cell_type": "markdown",
   "id": "connected-brother",
   "metadata": {},
   "source": [
    "create schema of this scv"
   ]
  },
  {
   "cell_type": "code",
   "execution_count": 6,
   "id": "progressive-dictionary",
   "metadata": {},
   "outputs": [],
   "source": [
    "schema = StructType() \\\n",
    "    .add('id', IntegerType()) \\\n",
    "    .add('work_year', IntegerType()) \\\n",
    "    .add('experience_level', StringType()) \\\n",
    "    .add('employment_type', StringType()) \\\n",
    "    .add('job_title', StringType()) \\\n",
    "    .add('salary', IntegerType()) \\\n",
    "    .add('salary_currency', StringType()) \\\n",
    "    .add('salary_in_usd', IntegerType()) \\\n",
    "    .add('employee_residence', StringType()) \\\n",
    "    .add('remote_ratio', IntegerType()) \\\n",
    "    .add('company_location', StringType()) \\\n",
    "    .add('company_size', StringType())"
   ]
  },
  {
   "cell_type": "markdown",
   "id": "auburn-sauce",
   "metadata": {},
   "source": [
    "restart kernel without cleaning output and after restarting you need to initialize SparkSession, after initialize start execute only cells from cell with schema=\n",
    "=StructType.... \n",
    "To restart kernel click Kernel, Restart."
   ]
  },
  {
   "cell_type": "markdown",
   "id": "artistic-hospital",
   "metadata": {},
   "source": [
    "read ds_salaries with predefined schema and compare results from this cell and cell with inferSchema"
   ]
  },
  {
   "cell_type": "code",
   "execution_count": 7,
   "id": "literary-plaintiff",
   "metadata": {},
   "outputs": [
    {
     "name": "stdout",
     "output_type": "stream",
     "text": [
      "CPU times: user 4.84 ms, sys: 10 μs, total: 4.85 ms\n",
      "Wall time: 60.1 ms\n"
     ]
    }
   ],
   "source": [
    "%%time\n",
    "df = spark.read.format('csv') \\\n",
    "    .option('header', True) \\\n",
    "    .schema(schema) \\\n",
    "    .load('ds_salaries.csv')"
   ]
  },
  {
   "cell_type": "markdown",
   "id": "senior-joint",
   "metadata": {},
   "source": [
    "this happens because read operation is lazy(transformation), but if you use inferschema it start to be action that will create Spark Job, because Spark need to loop throw all file to check datatypes for all columns and this can harm to your code(if we compare to parquet, it will also go to check data types, but parquet provide meta information, so Spark will not go throw all file, he will just read meta information, but csv don't provide such meta information). Also header make Spark to create one more Spark Job to check first line\n",
    "to define name of columns and remember to skeep it when reading. Actual reading start when you will use first action. More about Spark Jobs you will see in next topic"
   ]
  },
  {
   "cell_type": "markdown",
   "id": "underlying-assurance",
   "metadata": {},
   "source": [
    "write schema of scv on screen one more time and compare with previous"
   ]
  },
  {
   "cell_type": "code",
   "execution_count": 8,
   "id": "solid-infection",
   "metadata": {},
   "outputs": [
    {
     "name": "stdout",
     "output_type": "stream",
     "text": [
      "root\n",
      " |-- id: integer (nullable = true)\n",
      " |-- work_year: integer (nullable = true)\n",
      " |-- experience_level: string (nullable = true)\n",
      " |-- employment_type: string (nullable = true)\n",
      " |-- job_title: string (nullable = true)\n",
      " |-- salary: integer (nullable = true)\n",
      " |-- salary_currency: string (nullable = true)\n",
      " |-- salary_in_usd: integer (nullable = true)\n",
      " |-- employee_residence: string (nullable = true)\n",
      " |-- remote_ratio: integer (nullable = true)\n",
      " |-- company_location: string (nullable = true)\n",
      " |-- company_size: string (nullable = true)\n",
      "\n"
     ]
    }
   ],
   "source": [
    "df.printSchema()"
   ]
  },
  {
   "cell_type": "markdown",
   "id": "close-water",
   "metadata": {},
   "source": [
    "now continue to work with one of the dataframes that you create"
   ]
  },
  {
   "cell_type": "markdown",
   "id": "piano-belgium",
   "metadata": {},
   "source": [
    "print data in dataframe using df.show"
   ]
  },
  {
   "cell_type": "code",
   "execution_count": 9,
   "id": "legendary-alarm",
   "metadata": {},
   "outputs": [
    {
     "data": {
      "text/plain": [
       "<bound method DataFrame.show of DataFrame[id: int, work_year: int, experience_level: string, employment_type: string, job_title: string, salary: int, salary_currency: string, salary_in_usd: int, employee_residence: string, remote_ratio: int, company_location: string, company_size: string]>"
      ]
     },
     "execution_count": 9,
     "metadata": {},
     "output_type": "execute_result"
    }
   ],
   "source": [
    "df.show"
   ]
  },
  {
   "cell_type": "markdown",
   "id": "tamil-medium",
   "metadata": {},
   "source": [
    "print data in dataframe using display(df.toPandas())"
   ]
  },
  {
   "cell_type": "code",
   "execution_count": 10,
   "id": "connected-dryer",
   "metadata": {},
   "outputs": [
    {
     "name": "stderr",
     "output_type": "stream",
     "text": [
      "25/01/27 10:36:19 WARN CSVHeaderChecker: CSV header does not conform to the schema.\n",
      " Header: , work_year, experience_level, employment_type, job_title, salary, salary_currency, salary_in_usd, employee_residence, remote_ratio, company_location, company_size\n",
      " Schema: id, work_year, experience_level, employment_type, job_title, salary, salary_currency, salary_in_usd, employee_residence, remote_ratio, company_location, company_size\n",
      "Expected: id but found: \n",
      "CSV file: file:///home/rewinteer/Documents/Projects/PycharmProjects/Innowise/task-4/PySpark_Basics/ds_salaries.csv\n"
     ]
    },
    {
     "data": {
      "text/html": [
       "<div>\n",
       "<style scoped>\n",
       "    .dataframe tbody tr th:only-of-type {\n",
       "        vertical-align: middle;\n",
       "    }\n",
       "\n",
       "    .dataframe tbody tr th {\n",
       "        vertical-align: top;\n",
       "    }\n",
       "\n",
       "    .dataframe thead th {\n",
       "        text-align: right;\n",
       "    }\n",
       "</style>\n",
       "<table border=\"1\" class=\"dataframe\">\n",
       "  <thead>\n",
       "    <tr style=\"text-align: right;\">\n",
       "      <th></th>\n",
       "      <th>id</th>\n",
       "      <th>work_year</th>\n",
       "      <th>experience_level</th>\n",
       "      <th>employment_type</th>\n",
       "      <th>job_title</th>\n",
       "      <th>salary</th>\n",
       "      <th>salary_currency</th>\n",
       "      <th>salary_in_usd</th>\n",
       "      <th>employee_residence</th>\n",
       "      <th>remote_ratio</th>\n",
       "      <th>company_location</th>\n",
       "      <th>company_size</th>\n",
       "    </tr>\n",
       "  </thead>\n",
       "  <tbody>\n",
       "    <tr>\n",
       "      <th>0</th>\n",
       "      <td>0</td>\n",
       "      <td>2020</td>\n",
       "      <td>MI</td>\n",
       "      <td>FT</td>\n",
       "      <td>Data Scientist</td>\n",
       "      <td>70000</td>\n",
       "      <td>EUR</td>\n",
       "      <td>79833</td>\n",
       "      <td>DE</td>\n",
       "      <td>0</td>\n",
       "      <td>DE</td>\n",
       "      <td>L</td>\n",
       "    </tr>\n",
       "    <tr>\n",
       "      <th>1</th>\n",
       "      <td>1</td>\n",
       "      <td>2020</td>\n",
       "      <td>SE</td>\n",
       "      <td>FT</td>\n",
       "      <td>Machine Learning Scientist</td>\n",
       "      <td>260000</td>\n",
       "      <td>USD</td>\n",
       "      <td>260000</td>\n",
       "      <td>JP</td>\n",
       "      <td>0</td>\n",
       "      <td>JP</td>\n",
       "      <td>S</td>\n",
       "    </tr>\n",
       "    <tr>\n",
       "      <th>2</th>\n",
       "      <td>2</td>\n",
       "      <td>2020</td>\n",
       "      <td>SE</td>\n",
       "      <td>FT</td>\n",
       "      <td>Big Data Engineer</td>\n",
       "      <td>85000</td>\n",
       "      <td>GBP</td>\n",
       "      <td>109024</td>\n",
       "      <td>GB</td>\n",
       "      <td>50</td>\n",
       "      <td>GB</td>\n",
       "      <td>M</td>\n",
       "    </tr>\n",
       "    <tr>\n",
       "      <th>3</th>\n",
       "      <td>3</td>\n",
       "      <td>2020</td>\n",
       "      <td>MI</td>\n",
       "      <td>FT</td>\n",
       "      <td>Product Data Analyst</td>\n",
       "      <td>20000</td>\n",
       "      <td>USD</td>\n",
       "      <td>20000</td>\n",
       "      <td>HN</td>\n",
       "      <td>0</td>\n",
       "      <td>HN</td>\n",
       "      <td>S</td>\n",
       "    </tr>\n",
       "    <tr>\n",
       "      <th>4</th>\n",
       "      <td>4</td>\n",
       "      <td>2020</td>\n",
       "      <td>SE</td>\n",
       "      <td>FT</td>\n",
       "      <td>Machine Learning Engineer</td>\n",
       "      <td>150000</td>\n",
       "      <td>USD</td>\n",
       "      <td>150000</td>\n",
       "      <td>US</td>\n",
       "      <td>50</td>\n",
       "      <td>US</td>\n",
       "      <td>L</td>\n",
       "    </tr>\n",
       "    <tr>\n",
       "      <th>...</th>\n",
       "      <td>...</td>\n",
       "      <td>...</td>\n",
       "      <td>...</td>\n",
       "      <td>...</td>\n",
       "      <td>...</td>\n",
       "      <td>...</td>\n",
       "      <td>...</td>\n",
       "      <td>...</td>\n",
       "      <td>...</td>\n",
       "      <td>...</td>\n",
       "      <td>...</td>\n",
       "      <td>...</td>\n",
       "    </tr>\n",
       "    <tr>\n",
       "      <th>602</th>\n",
       "      <td>602</td>\n",
       "      <td>2022</td>\n",
       "      <td>SE</td>\n",
       "      <td>FT</td>\n",
       "      <td>Data Engineer</td>\n",
       "      <td>154000</td>\n",
       "      <td>USD</td>\n",
       "      <td>154000</td>\n",
       "      <td>US</td>\n",
       "      <td>100</td>\n",
       "      <td>US</td>\n",
       "      <td>M</td>\n",
       "    </tr>\n",
       "    <tr>\n",
       "      <th>603</th>\n",
       "      <td>603</td>\n",
       "      <td>2022</td>\n",
       "      <td>SE</td>\n",
       "      <td>FT</td>\n",
       "      <td>Data Engineer</td>\n",
       "      <td>126000</td>\n",
       "      <td>USD</td>\n",
       "      <td>126000</td>\n",
       "      <td>US</td>\n",
       "      <td>100</td>\n",
       "      <td>US</td>\n",
       "      <td>M</td>\n",
       "    </tr>\n",
       "    <tr>\n",
       "      <th>604</th>\n",
       "      <td>604</td>\n",
       "      <td>2022</td>\n",
       "      <td>SE</td>\n",
       "      <td>FT</td>\n",
       "      <td>Data Analyst</td>\n",
       "      <td>129000</td>\n",
       "      <td>USD</td>\n",
       "      <td>129000</td>\n",
       "      <td>US</td>\n",
       "      <td>0</td>\n",
       "      <td>US</td>\n",
       "      <td>M</td>\n",
       "    </tr>\n",
       "    <tr>\n",
       "      <th>605</th>\n",
       "      <td>605</td>\n",
       "      <td>2022</td>\n",
       "      <td>SE</td>\n",
       "      <td>FT</td>\n",
       "      <td>Data Analyst</td>\n",
       "      <td>150000</td>\n",
       "      <td>USD</td>\n",
       "      <td>150000</td>\n",
       "      <td>US</td>\n",
       "      <td>100</td>\n",
       "      <td>US</td>\n",
       "      <td>M</td>\n",
       "    </tr>\n",
       "    <tr>\n",
       "      <th>606</th>\n",
       "      <td>606</td>\n",
       "      <td>2022</td>\n",
       "      <td>MI</td>\n",
       "      <td>FT</td>\n",
       "      <td>AI Scientist</td>\n",
       "      <td>200000</td>\n",
       "      <td>USD</td>\n",
       "      <td>200000</td>\n",
       "      <td>IN</td>\n",
       "      <td>100</td>\n",
       "      <td>US</td>\n",
       "      <td>L</td>\n",
       "    </tr>\n",
       "  </tbody>\n",
       "</table>\n",
       "<p>607 rows × 12 columns</p>\n",
       "</div>"
      ],
      "text/plain": [
       "      id  work_year experience_level employment_type  \\\n",
       "0      0       2020               MI              FT   \n",
       "1      1       2020               SE              FT   \n",
       "2      2       2020               SE              FT   \n",
       "3      3       2020               MI              FT   \n",
       "4      4       2020               SE              FT   \n",
       "..   ...        ...              ...             ...   \n",
       "602  602       2022               SE              FT   \n",
       "603  603       2022               SE              FT   \n",
       "604  604       2022               SE              FT   \n",
       "605  605       2022               SE              FT   \n",
       "606  606       2022               MI              FT   \n",
       "\n",
       "                      job_title  salary salary_currency  salary_in_usd  \\\n",
       "0                Data Scientist   70000             EUR          79833   \n",
       "1    Machine Learning Scientist  260000             USD         260000   \n",
       "2             Big Data Engineer   85000             GBP         109024   \n",
       "3          Product Data Analyst   20000             USD          20000   \n",
       "4     Machine Learning Engineer  150000             USD         150000   \n",
       "..                          ...     ...             ...            ...   \n",
       "602               Data Engineer  154000             USD         154000   \n",
       "603               Data Engineer  126000             USD         126000   \n",
       "604                Data Analyst  129000             USD         129000   \n",
       "605                Data Analyst  150000             USD         150000   \n",
       "606                AI Scientist  200000             USD         200000   \n",
       "\n",
       "    employee_residence  remote_ratio company_location company_size  \n",
       "0                   DE             0               DE            L  \n",
       "1                   JP             0               JP            S  \n",
       "2                   GB            50               GB            M  \n",
       "3                   HN             0               HN            S  \n",
       "4                   US            50               US            L  \n",
       "..                 ...           ...              ...          ...  \n",
       "602                 US           100               US            M  \n",
       "603                 US           100               US            M  \n",
       "604                 US             0               US            M  \n",
       "605                 US           100               US            M  \n",
       "606                 IN           100               US            L  \n",
       "\n",
       "[607 rows x 12 columns]"
      ]
     },
     "metadata": {},
     "output_type": "display_data"
    }
   ],
   "source": [
    "display(df.toPandas())"
   ]
  },
  {
   "cell_type": "markdown",
   "id": "opponent-gazette",
   "metadata": {},
   "source": [
    "create df_job_title that consists from all job_titles without duplicates"
   ]
  },
  {
   "cell_type": "code",
   "execution_count": 11,
   "id": "friendly-cartridge",
   "metadata": {},
   "outputs": [],
   "source": [
    "df_job_title = df.select('job_title').distinct()"
   ]
  },
  {
   "cell_type": "markdown",
   "id": "offshore-architecture",
   "metadata": {},
   "source": [
    "print all rows from df_job_titles without truncating jobs"
   ]
  },
  {
   "cell_type": "code",
   "execution_count": 12,
   "id": "asian-edition",
   "metadata": {},
   "outputs": [
    {
     "name": "stdout",
     "output_type": "stream",
     "text": [
      "+----------------------------------------+\n",
      "|job_title                               |\n",
      "+----------------------------------------+\n",
      "|3D Computer Vision Researcher           |\n",
      "|Lead Data Engineer                      |\n",
      "|Head of Machine Learning                |\n",
      "|Data Specialist                         |\n",
      "|Data Analytics Lead                     |\n",
      "|Machine Learning Scientist              |\n",
      "|Lead Data Analyst                       |\n",
      "|Data Engineering Manager                |\n",
      "|Staff Data Scientist                    |\n",
      "|ETL Developer                           |\n",
      "|Director of Data Engineering            |\n",
      "|Product Data Analyst                    |\n",
      "|Principal Data Scientist                |\n",
      "|AI Scientist                            |\n",
      "|Director of Data Science                |\n",
      "|Machine Learning Engineer               |\n",
      "|Lead Data Scientist                     |\n",
      "|Machine Learning Infrastructure Engineer|\n",
      "|Data Science Engineer                   |\n",
      "|Machine Learning Manager                |\n",
      "|Research Scientist                      |\n",
      "|Head of Data                            |\n",
      "|Cloud Data Engineer                     |\n",
      "|Machine Learning Developer              |\n",
      "|Data Scientist                          |\n",
      "|Finance Data Analyst                    |\n",
      "|Data Analyst                            |\n",
      "|Data Analytics Engineer                 |\n",
      "|Data Science Consultant                 |\n",
      "|Principal Data Engineer                 |\n",
      "|Lead Machine Learning Engineer          |\n",
      "|ML Engineer                             |\n",
      "|Analytics Engineer                      |\n",
      "|Data Science Manager                    |\n",
      "|Business Data Analyst                   |\n",
      "|Principal Data Analyst                  |\n",
      "|Applied Machine Learning Scientist      |\n",
      "|Financial Data Analyst                  |\n",
      "|Data Analytics Manager                  |\n",
      "|Computer Vision Engineer                |\n",
      "|Computer Vision Software Engineer       |\n",
      "|Big Data Engineer                       |\n",
      "|Head of Data Science                    |\n",
      "|NLP Engineer                            |\n",
      "|Big Data Architect                      |\n",
      "|Applied Data Scientist                  |\n",
      "|Data Architect                          |\n",
      "|BI Data Analyst                         |\n",
      "|Marketing Data Analyst                  |\n",
      "|Data Engineer                           |\n",
      "+----------------------------------------+\n",
      "\n"
     ]
    }
   ],
   "source": [
    "# display(df_job_title.toPandas())\n",
    "df_job_title.show(df_job_title.count(), truncate=0)"
   ]
  },
  {
   "cell_type": "markdown",
   "id": "interim-pharmacy",
   "metadata": {},
   "source": [
    "create  df_analytic that will consists from max, avg, min USD salaries for all job_titles using groupBy. name of fields is avg_salary, min_salary, max_salary"
   ]
  },
  {
   "cell_type": "code",
   "execution_count": 13,
   "id": "naval-roller",
   "metadata": {},
   "outputs": [],
   "source": [
    "df_analytic = df.groupBy('job_title').agg(\n",
    "    max('salary_in_usd').alias('max_salary'), \\\n",
    "    avg('salary_in_usd').alias('avg_salary'), \\\n",
    "    min('salary_in_usd').alias('min_salary')\n",
    ").orderBy('job_title')"
   ]
  },
  {
   "cell_type": "markdown",
   "id": "french-pledge",
   "metadata": {},
   "source": [
    "print all rows from df_analytic without trancating jobs"
   ]
  },
  {
   "cell_type": "code",
   "execution_count": 14,
   "id": "bacterial-depression",
   "metadata": {},
   "outputs": [
    {
     "name": "stdout",
     "output_type": "stream",
     "text": [
      "+----------------------------------------+----------+------------------+----------+\n",
      "|job_title                               |max_salary|avg_salary        |min_salary|\n",
      "+----------------------------------------+----------+------------------+----------+\n",
      "|3D Computer Vision Researcher           |5409      |5409.0            |5409      |\n",
      "|AI Scientist                            |200000    |66135.57142857143 |12000     |\n",
      "|Analytics Engineer                      |205300    |175000.0          |135000    |\n",
      "|Applied Data Scientist                  |380000    |175655.0          |54238     |\n",
      "|Applied Machine Learning Scientist      |423000    |142068.75         |31875     |\n",
      "|BI Data Analyst                         |150000    |74755.16666666667 |9272      |\n",
      "|Big Data Architect                      |99703     |99703.0           |99703     |\n",
      "|Big Data Engineer                       |114047    |51974.0           |5882      |\n",
      "|Business Data Analyst                   |135000    |76691.2           |18442     |\n",
      "|Cloud Data Engineer                     |160000    |124647.0          |89294     |\n",
      "|Computer Vision Engineer                |125000    |44419.333333333336|10000     |\n",
      "|Computer Vision Software Engineer       |150000    |105248.66666666667|70000     |\n",
      "|Data Analyst                            |200000    |92893.06185567011 |6072      |\n",
      "|Data Analytics Engineer                 |110000    |64799.25          |20000     |\n",
      "|Data Analytics Lead                     |405000    |405000.0          |405000    |\n",
      "|Data Analytics Manager                  |150260    |127134.28571428571|105400    |\n",
      "|Data Architect                          |266400    |177873.9090909091 |90700     |\n",
      "|Data Engineer                           |324000    |112725.0          |4000      |\n",
      "|Data Engineering Manager                |174000    |123227.2          |59303     |\n",
      "|Data Science Consultant                 |103000    |69420.71428571429 |5707      |\n",
      "|Data Science Engineer                   |127221    |75803.33333333333 |40189     |\n",
      "|Data Science Manager                    |241000    |158328.5          |54094     |\n",
      "|Data Scientist                          |412000    |108187.83216783217|2859      |\n",
      "|Data Specialist                         |165000    |165000.0          |165000    |\n",
      "|Director of Data Engineering            |200000    |156738.0          |113476    |\n",
      "|Director of Data Science                |325000    |195074.0          |130026    |\n",
      "|ETL Developer                           |54957     |54957.0           |54957     |\n",
      "|Finance Data Analyst                    |61896     |61896.0           |61896     |\n",
      "|Financial Data Analyst                  |450000    |275000.0          |100000    |\n",
      "|Head of Data                            |235000    |160162.6          |32974     |\n",
      "|Head of Data Science                    |224000    |146718.75         |85000     |\n",
      "|Head of Machine Learning                |79039     |79039.0           |79039     |\n",
      "|Lead Data Analyst                       |170000    |92203.0           |19609     |\n",
      "|Lead Data Engineer                      |276000    |139724.5          |56000     |\n",
      "|Lead Data Scientist                     |190000    |115190.0          |40570     |\n",
      "|Lead Machine Learning Engineer          |87932     |87932.0           |87932     |\n",
      "|ML Engineer                             |270000    |117504.0          |15966     |\n",
      "|Machine Learning Developer              |100000    |85860.66666666667 |78791     |\n",
      "|Machine Learning Engineer               |250000    |104880.14634146342|20000     |\n",
      "|Machine Learning Infrastructure Engineer|195000    |101145.0          |50180     |\n",
      "|Machine Learning Manager                |117104    |117104.0          |117104    |\n",
      "|Machine Learning Scientist              |260000    |158412.5          |12000     |\n",
      "|Marketing Data Analyst                  |88654     |88654.0           |88654     |\n",
      "|NLP Engineer                            |37236     |37236.0           |37236     |\n",
      "|Principal Data Analyst                  |170000    |122500.0          |75000     |\n",
      "|Principal Data Engineer                 |600000    |328333.3333333333 |185000    |\n",
      "|Principal Data Scientist                |416000    |215242.42857142858|148261    |\n",
      "|Product Data Analyst                    |20000     |13036.0           |6072      |\n",
      "|Research Scientist                      |450000    |109019.5          |42000     |\n",
      "|Staff Data Scientist                    |105000    |105000.0          |105000    |\n",
      "+----------------------------------------+----------+------------------+----------+\n",
      "\n"
     ]
    }
   ],
   "source": [
    "df_analytic.show(df_analytic.count(), truncate=False)"
   ]
  },
  {
   "cell_type": "markdown",
   "id": "hazardous-color",
   "metadata": {},
   "source": [
    "now you need to add in df_analytic column row_id, that will show order of all job_titles depending on avg salary. they should be descending"
   ]
  },
  {
   "cell_type": "code",
   "execution_count": 15,
   "id": "nearby-treasurer",
   "metadata": {},
   "outputs": [],
   "source": [
    "w = Window.orderBy(df_analytic.avg_salary.desc())\n",
    "df_analytic = df_analytic.withColumn(\"row_id\", row_number().over(w))\n"
   ]
  },
  {
   "cell_type": "markdown",
   "id": "documented-catalog",
   "metadata": {},
   "source": [
    "print all data from df_analytic"
   ]
  },
  {
   "cell_type": "code",
   "execution_count": 16,
   "id": "confirmed-monitoring",
   "metadata": {},
   "outputs": [
    {
     "name": "stderr",
     "output_type": "stream",
     "text": [
      "25/01/27 10:37:43 WARN WindowExec: No Partition Defined for Window operation! Moving all data to a single partition, this can cause serious performance degradation.\n",
      "25/01/27 10:37:43 WARN WindowExec: No Partition Defined for Window operation! Moving all data to a single partition, this can cause serious performance degradation.\n",
      "25/01/27 10:37:43 WARN WindowExec: No Partition Defined for Window operation! Moving all data to a single partition, this can cause serious performance degradation.\n",
      "25/01/27 10:37:43 WARN WindowExec: No Partition Defined for Window operation! Moving all data to a single partition, this can cause serious performance degradation.\n",
      "25/01/27 10:37:43 WARN WindowExec: No Partition Defined for Window operation! Moving all data to a single partition, this can cause serious performance degradation.\n",
      "25/01/27 10:37:43 WARN WindowExec: No Partition Defined for Window operation! Moving all data to a single partition, this can cause serious performance degradation.\n"
     ]
    },
    {
     "name": "stdout",
     "output_type": "stream",
     "text": [
      "+----------------------------------------+----------+------------------+----------+------+\n",
      "|job_title                               |max_salary|avg_salary        |min_salary|row_id|\n",
      "+----------------------------------------+----------+------------------+----------+------+\n",
      "|Data Analytics Lead                     |405000    |405000.0          |405000    |1     |\n",
      "|Principal Data Engineer                 |600000    |328333.3333333333 |185000    |2     |\n",
      "|Financial Data Analyst                  |450000    |275000.0          |100000    |3     |\n",
      "|Principal Data Scientist                |416000    |215242.42857142858|148261    |4     |\n",
      "|Director of Data Science                |325000    |195074.0          |130026    |5     |\n",
      "|Data Architect                          |266400    |177873.9090909091 |90700     |6     |\n",
      "|Applied Data Scientist                  |380000    |175655.0          |54238     |7     |\n",
      "|Analytics Engineer                      |205300    |175000.0          |135000    |8     |\n",
      "|Data Specialist                         |165000    |165000.0          |165000    |9     |\n",
      "|Head of Data                            |235000    |160162.6          |32974     |10    |\n",
      "|Machine Learning Scientist              |260000    |158412.5          |12000     |11    |\n",
      "|Data Science Manager                    |241000    |158328.5          |54094     |12    |\n",
      "|Director of Data Engineering            |200000    |156738.0          |113476    |13    |\n",
      "|Head of Data Science                    |224000    |146718.75         |85000     |14    |\n",
      "|Applied Machine Learning Scientist      |423000    |142068.75         |31875     |15    |\n",
      "|Lead Data Engineer                      |276000    |139724.5          |56000     |16    |\n",
      "|Data Analytics Manager                  |150260    |127134.28571428571|105400    |17    |\n",
      "|Cloud Data Engineer                     |160000    |124647.0          |89294     |18    |\n",
      "|Data Engineering Manager                |174000    |123227.2          |59303     |19    |\n",
      "|Principal Data Analyst                  |170000    |122500.0          |75000     |20    |\n",
      "|ML Engineer                             |270000    |117504.0          |15966     |21    |\n",
      "|Machine Learning Manager                |117104    |117104.0          |117104    |22    |\n",
      "|Lead Data Scientist                     |190000    |115190.0          |40570     |23    |\n",
      "|Data Engineer                           |324000    |112725.0          |4000      |24    |\n",
      "|Research Scientist                      |450000    |109019.5          |42000     |25    |\n",
      "|Data Scientist                          |412000    |108187.83216783217|2859      |26    |\n",
      "|Computer Vision Software Engineer       |150000    |105248.66666666667|70000     |27    |\n",
      "|Staff Data Scientist                    |105000    |105000.0          |105000    |28    |\n",
      "|Machine Learning Engineer               |250000    |104880.14634146342|20000     |29    |\n",
      "|Machine Learning Infrastructure Engineer|195000    |101145.0          |50180     |30    |\n",
      "|Big Data Architect                      |99703     |99703.0           |99703     |31    |\n",
      "|Data Analyst                            |200000    |92893.06185567011 |6072      |32    |\n",
      "|Lead Data Analyst                       |170000    |92203.0           |19609     |33    |\n",
      "|Marketing Data Analyst                  |88654     |88654.0           |88654     |34    |\n",
      "|Lead Machine Learning Engineer          |87932     |87932.0           |87932     |35    |\n",
      "|Machine Learning Developer              |100000    |85860.66666666667 |78791     |36    |\n",
      "|Head of Machine Learning                |79039     |79039.0           |79039     |37    |\n",
      "|Business Data Analyst                   |135000    |76691.2           |18442     |38    |\n",
      "|Data Science Engineer                   |127221    |75803.33333333333 |40189     |39    |\n",
      "|BI Data Analyst                         |150000    |74755.16666666667 |9272      |40    |\n",
      "|Data Science Consultant                 |103000    |69420.71428571429 |5707      |41    |\n",
      "|AI Scientist                            |200000    |66135.57142857143 |12000     |42    |\n",
      "|Data Analytics Engineer                 |110000    |64799.25          |20000     |43    |\n",
      "|Finance Data Analyst                    |61896     |61896.0           |61896     |44    |\n",
      "|ETL Developer                           |54957     |54957.0           |54957     |45    |\n",
      "|Big Data Engineer                       |114047    |51974.0           |5882      |46    |\n",
      "|Computer Vision Engineer                |125000    |44419.333333333336|10000     |47    |\n",
      "|NLP Engineer                            |37236     |37236.0           |37236     |48    |\n",
      "|Product Data Analyst                    |20000     |13036.0           |6072      |49    |\n",
      "|3D Computer Vision Researcher           |5409      |5409.0            |5409      |50    |\n",
      "+----------------------------------------+----------+------------------+----------+------+\n",
      "\n"
     ]
    }
   ],
   "source": [
    "df_analytic.show(df_analytic.count(), truncate=False)"
   ]
  },
  {
   "cell_type": "markdown",
   "id": "satellite-quarter",
   "metadata": {},
   "source": [
    "it isn't beautifull, so we need to put now row_id on first place in df_analytic"
   ]
  },
  {
   "cell_type": "code",
   "execution_count": 17,
   "id": "ranging-tribune",
   "metadata": {},
   "outputs": [],
   "source": [
    "new_arrangement = ('row_id', 'job_title', 'max_salary', 'avg_salary', 'min_salary')\n",
    "df_analytic = df_analytic.select(*new_arrangement)"
   ]
  },
  {
   "cell_type": "markdown",
   "id": "reliable-amsterdam",
   "metadata": {},
   "source": [
    "print df_analytic now"
   ]
  },
  {
   "cell_type": "code",
   "execution_count": 18,
   "id": "classical-biology",
   "metadata": {},
   "outputs": [
    {
     "name": "stderr",
     "output_type": "stream",
     "text": [
      "25/01/27 10:37:53 WARN WindowExec: No Partition Defined for Window operation! Moving all data to a single partition, this can cause serious performance degradation.\n",
      "25/01/27 10:37:53 WARN WindowExec: No Partition Defined for Window operation! Moving all data to a single partition, this can cause serious performance degradation.\n",
      "25/01/27 10:37:53 WARN WindowExec: No Partition Defined for Window operation! Moving all data to a single partition, this can cause serious performance degradation.\n",
      "25/01/27 10:37:53 WARN WindowExec: No Partition Defined for Window operation! Moving all data to a single partition, this can cause serious performance degradation.\n",
      "25/01/27 10:37:53 WARN WindowExec: No Partition Defined for Window operation! Moving all data to a single partition, this can cause serious performance degradation.\n",
      "25/01/27 10:37:53 WARN WindowExec: No Partition Defined for Window operation! Moving all data to a single partition, this can cause serious performance degradation.\n"
     ]
    },
    {
     "name": "stdout",
     "output_type": "stream",
     "text": [
      "+------+----------------------------------------+----------+------------------+----------+\n",
      "|row_id|job_title                               |max_salary|avg_salary        |min_salary|\n",
      "+------+----------------------------------------+----------+------------------+----------+\n",
      "|1     |Data Analytics Lead                     |405000    |405000.0          |405000    |\n",
      "|2     |Principal Data Engineer                 |600000    |328333.3333333333 |185000    |\n",
      "|3     |Financial Data Analyst                  |450000    |275000.0          |100000    |\n",
      "|4     |Principal Data Scientist                |416000    |215242.42857142858|148261    |\n",
      "|5     |Director of Data Science                |325000    |195074.0          |130026    |\n",
      "|6     |Data Architect                          |266400    |177873.9090909091 |90700     |\n",
      "|7     |Applied Data Scientist                  |380000    |175655.0          |54238     |\n",
      "|8     |Analytics Engineer                      |205300    |175000.0          |135000    |\n",
      "|9     |Data Specialist                         |165000    |165000.0          |165000    |\n",
      "|10    |Head of Data                            |235000    |160162.6          |32974     |\n",
      "|11    |Machine Learning Scientist              |260000    |158412.5          |12000     |\n",
      "|12    |Data Science Manager                    |241000    |158328.5          |54094     |\n",
      "|13    |Director of Data Engineering            |200000    |156738.0          |113476    |\n",
      "|14    |Head of Data Science                    |224000    |146718.75         |85000     |\n",
      "|15    |Applied Machine Learning Scientist      |423000    |142068.75         |31875     |\n",
      "|16    |Lead Data Engineer                      |276000    |139724.5          |56000     |\n",
      "|17    |Data Analytics Manager                  |150260    |127134.28571428571|105400    |\n",
      "|18    |Cloud Data Engineer                     |160000    |124647.0          |89294     |\n",
      "|19    |Data Engineering Manager                |174000    |123227.2          |59303     |\n",
      "|20    |Principal Data Analyst                  |170000    |122500.0          |75000     |\n",
      "|21    |ML Engineer                             |270000    |117504.0          |15966     |\n",
      "|22    |Machine Learning Manager                |117104    |117104.0          |117104    |\n",
      "|23    |Lead Data Scientist                     |190000    |115190.0          |40570     |\n",
      "|24    |Data Engineer                           |324000    |112725.0          |4000      |\n",
      "|25    |Research Scientist                      |450000    |109019.5          |42000     |\n",
      "|26    |Data Scientist                          |412000    |108187.83216783217|2859      |\n",
      "|27    |Computer Vision Software Engineer       |150000    |105248.66666666667|70000     |\n",
      "|28    |Staff Data Scientist                    |105000    |105000.0          |105000    |\n",
      "|29    |Machine Learning Engineer               |250000    |104880.14634146342|20000     |\n",
      "|30    |Machine Learning Infrastructure Engineer|195000    |101145.0          |50180     |\n",
      "|31    |Big Data Architect                      |99703     |99703.0           |99703     |\n",
      "|32    |Data Analyst                            |200000    |92893.06185567011 |6072      |\n",
      "|33    |Lead Data Analyst                       |170000    |92203.0           |19609     |\n",
      "|34    |Marketing Data Analyst                  |88654     |88654.0           |88654     |\n",
      "|35    |Lead Machine Learning Engineer          |87932     |87932.0           |87932     |\n",
      "|36    |Machine Learning Developer              |100000    |85860.66666666667 |78791     |\n",
      "|37    |Head of Machine Learning                |79039     |79039.0           |79039     |\n",
      "|38    |Business Data Analyst                   |135000    |76691.2           |18442     |\n",
      "|39    |Data Science Engineer                   |127221    |75803.33333333333 |40189     |\n",
      "|40    |BI Data Analyst                         |150000    |74755.16666666667 |9272      |\n",
      "|41    |Data Science Consultant                 |103000    |69420.71428571429 |5707      |\n",
      "|42    |AI Scientist                            |200000    |66135.57142857143 |12000     |\n",
      "|43    |Data Analytics Engineer                 |110000    |64799.25          |20000     |\n",
      "|44    |Finance Data Analyst                    |61896     |61896.0           |61896     |\n",
      "|45    |ETL Developer                           |54957     |54957.0           |54957     |\n",
      "|46    |Big Data Engineer                       |114047    |51974.0           |5882      |\n",
      "|47    |Computer Vision Engineer                |125000    |44419.333333333336|10000     |\n",
      "|48    |NLP Engineer                            |37236     |37236.0           |37236     |\n",
      "|49    |Product Data Analyst                    |20000     |13036.0           |6072      |\n",
      "|50    |3D Computer Vision Researcher           |5409      |5409.0            |5409      |\n",
      "+------+----------------------------------------+----------+------------------+----------+\n",
      "\n"
     ]
    }
   ],
   "source": [
    "df_analytic.show(df_analytic.count(), truncate=False)"
   ]
  },
  {
   "cell_type": "markdown",
   "id": "hybrid-queensland",
   "metadata": {},
   "source": [
    "here you need to create df_exp_lvl with the biggest usd_salary(biggest_salary) for each experience_level(you need to save all fields like in entire dataframe)"
   ]
  },
  {
   "cell_type": "code",
   "execution_count": 19,
   "id": "dental-wrist",
   "metadata": {},
   "outputs": [],
   "source": [
    "df_exp_lvl = df.groupBy('experience_level').agg(max('salary_in_usd').alias('salary_in_usd'))"
   ]
  },
  {
   "cell_type": "markdown",
   "id": "innovative-hierarchy",
   "metadata": {},
   "source": [
    "print here df_exp_lvl"
   ]
  },
  {
   "cell_type": "code",
   "execution_count": 20,
   "id": "standing-toilet",
   "metadata": {},
   "outputs": [
    {
     "name": "stdout",
     "output_type": "stream",
     "text": [
      "+----------------+-------------+\n",
      "|experience_level|salary_in_usd|\n",
      "+----------------+-------------+\n",
      "|EX              |600000       |\n",
      "|MI              |450000       |\n",
      "|EN              |250000       |\n",
      "|SE              |412000       |\n",
      "+----------------+-------------+\n",
      "\n"
     ]
    }
   ],
   "source": [
    "df_exp_lvl.show(df_exp_lvl.count(), truncate=False)"
   ]
  },
  {
   "cell_type": "markdown",
   "id": "hawaiian-mortgage",
   "metadata": {},
   "source": [
    "create df_best that consists from rows where salary of guy same as biggest salary for other people in his exp_lvl and choose only columns: id, experience_level, biggest_salary, employee_residence"
   ]
  },
  {
   "cell_type": "code",
   "execution_count": 22,
   "id": "toxic-prompt",
   "metadata": {},
   "outputs": [],
   "source": [
    "columns = ('id', 'experience_level', 'salary_in_usd', 'employee_residence')\n",
    "join_columns = ['experience_level', 'salary_in_usd']\n",
    "df_best = df.join(df_exp_lvl, on=join_columns).select(*columns)"
   ]
  },
  {
   "cell_type": "markdown",
   "id": "complex-librarian",
   "metadata": {},
   "source": [
    "print df_best"
   ]
  },
  {
   "cell_type": "code",
   "execution_count": 23,
   "id": "smart-texas",
   "metadata": {},
   "outputs": [
    {
     "name": "stdout",
     "output_type": "stream",
     "text": [
      "+---+----------------+-------------+------------------+\n",
      "|id |experience_level|salary_in_usd|employee_residence|\n",
      "+---+----------------+-------------+------------------+\n",
      "|33 |MI              |450000       |US                |\n",
      "|37 |EN              |250000       |US                |\n",
      "|63 |SE              |412000       |US                |\n",
      "|97 |MI              |450000       |US                |\n",
      "|252|EX              |600000       |US                |\n",
      "+---+----------------+-------------+------------------+\n",
      "\n"
     ]
    },
    {
     "name": "stderr",
     "output_type": "stream",
     "text": [
      "25/01/27 10:38:21 WARN CSVHeaderChecker: CSV header does not conform to the schema.\n",
      " Header: , experience_level, salary_in_usd, employee_residence\n",
      " Schema: id, experience_level, salary_in_usd, employee_residence\n",
      "Expected: id but found: \n",
      "CSV file: file:///home/rewinteer/Documents/Projects/PycharmProjects/Innowise/task-4/PySpark_Basics/ds_salaries.csv\n"
     ]
    }
   ],
   "source": [
    "df_best.show(df_best.count(), truncate=False)"
   ]
  },
  {
   "cell_type": "markdown",
   "id": "integral-brass",
   "metadata": {},
   "source": [
    "drop duplicates if exist by experience_level"
   ]
  },
  {
   "cell_type": "code",
   "execution_count": 24,
   "id": "immune-marine",
   "metadata": {},
   "outputs": [],
   "source": [
    "df_best = df_best.dropDuplicates(['experience_level'])"
   ]
  },
  {
   "cell_type": "markdown",
   "id": "connected-credit",
   "metadata": {},
   "source": [
    "print df_best"
   ]
  },
  {
   "cell_type": "code",
   "execution_count": 25,
   "id": "specified-wellington",
   "metadata": {},
   "outputs": [
    {
     "name": "stdout",
     "output_type": "stream",
     "text": [
      "+---+----------------+-------------+------------------+\n",
      "|id |experience_level|salary_in_usd|employee_residence|\n",
      "+---+----------------+-------------+------------------+\n",
      "|37 |EN              |250000       |US                |\n",
      "|252|EX              |600000       |US                |\n",
      "|33 |MI              |450000       |US                |\n",
      "|63 |SE              |412000       |US                |\n",
      "+---+----------------+-------------+------------------+\n",
      "\n"
     ]
    },
    {
     "name": "stderr",
     "output_type": "stream",
     "text": [
      "25/01/27 10:38:27 WARN CSVHeaderChecker: CSV header does not conform to the schema.\n",
      " Header: , experience_level, salary_in_usd, employee_residence\n",
      " Schema: id, experience_level, salary_in_usd, employee_residence\n",
      "Expected: id but found: \n",
      "CSV file: file:///home/rewinteer/Documents/Projects/PycharmProjects/Innowise/task-4/PySpark_Basics/ds_salaries.csv\n"
     ]
    }
   ],
   "source": [
    "df_best.show(df_best.count(), truncate=False)"
   ]
  },
  {
   "cell_type": "markdown",
   "id": "facial-plant",
   "metadata": {},
   "source": [
    "create df_new_best from df_best without id, and make the next: when exp_level = MI we want middle, when SE we want senior, else Null"
   ]
  },
  {
   "cell_type": "code",
   "execution_count": 26,
   "id": "infinite-retail",
   "metadata": {},
   "outputs": [],
   "source": [
    "df_new_best = df_best.withColumn(\"experience_level\", when(df.experience_level == \"MI\",\"Middle\")\n",
    "                                 .when(df.experience_level == \"SE\",\"Senior\")\n",
    "                                 .otherwise('Null'))"
   ]
  },
  {
   "cell_type": "markdown",
   "id": "changing-fairy",
   "metadata": {},
   "source": [
    "print df_new_best"
   ]
  },
  {
   "cell_type": "code",
   "execution_count": 27,
   "id": "endless-framework",
   "metadata": {},
   "outputs": [
    {
     "name": "stdout",
     "output_type": "stream",
     "text": [
      "+---+----------------+-------------+------------------+\n",
      "|id |experience_level|salary_in_usd|employee_residence|\n",
      "+---+----------------+-------------+------------------+\n",
      "|37 |Null            |250000       |US                |\n",
      "|252|Null            |600000       |US                |\n",
      "|33 |Middle          |450000       |US                |\n",
      "|63 |Senior          |412000       |US                |\n",
      "+---+----------------+-------------+------------------+\n",
      "\n"
     ]
    },
    {
     "name": "stderr",
     "output_type": "stream",
     "text": [
      "25/01/27 10:38:49 WARN CSVHeaderChecker: CSV header does not conform to the schema.\n",
      " Header: , experience_level, salary_in_usd, employee_residence\n",
      " Schema: id, experience_level, salary_in_usd, employee_residence\n",
      "Expected: id but found: \n",
      "CSV file: file:///home/rewinteer/Documents/Projects/PycharmProjects/Innowise/task-4/PySpark_Basics/ds_salaries.csv\n"
     ]
    }
   ],
   "source": [
    "df_new_best.show(df_new_best.count(), truncate=False)"
   ]
  },
  {
   "cell_type": "markdown",
   "id": "mineral-status",
   "metadata": {},
   "source": [
    "write df_new_best like 1.csv and load then it to df_final"
   ]
  },
  {
   "cell_type": "code",
   "execution_count": 33,
   "id": "baking-progress",
   "metadata": {},
   "outputs": [],
   "source": [
    "df_new_best.toPandas().to_csv(\"1.csv\")\n",
    "df_final = spark.read.options(header=True).csv('1.csv')"
   ]
  },
  {
   "cell_type": "markdown",
   "id": "vocal-shooting",
   "metadata": {},
   "source": [
    "print df_final"
   ]
  },
  {
   "cell_type": "code",
   "execution_count": 34,
   "id": "expired-viewer",
   "metadata": {},
   "outputs": [
    {
     "name": "stdout",
     "output_type": "stream",
     "text": [
      "+---+---+----------------+-------------+------------------+\n",
      "|_c0|id |experience_level|salary_in_usd|employee_residence|\n",
      "+---+---+----------------+-------------+------------------+\n",
      "|0  |37 |Null            |250000       |US                |\n",
      "|1  |252|Null            |600000       |US                |\n",
      "|2  |33 |Middle          |450000       |US                |\n",
      "|3  |63 |Senior          |412000       |US                |\n",
      "+---+---+----------------+-------------+------------------+\n",
      "\n"
     ]
    },
    {
     "name": "stderr",
     "output_type": "stream",
     "text": [
      "25/01/27 10:44:37 WARN CSVHeaderChecker: CSV header does not conform to the schema.\n",
      " Header: , id, experience_level, salary_in_usd, employee_residence\n",
      " Schema: _c0, id, experience_level, salary_in_usd, employee_residence\n",
      "Expected: _c0 but found: \n",
      "CSV file: file:///home/rewinteer/Documents/Projects/PycharmProjects/Innowise/task-4/PySpark_Basics/1.csv\n"
     ]
    }
   ],
   "source": [
    "df_final.show(df_final.count(), truncate=False)"
   ]
  },
  {
   "cell_type": "markdown",
   "id": "nutritional-progress",
   "metadata": {},
   "source": [
    "filter df_final to delete experience_level where it Null, then join this table by biggest_salary(salary_in_usd) and employee_residence with entire df"
   ]
  },
  {
   "cell_type": "code",
   "execution_count": 39,
   "id": "small-polymer",
   "metadata": {},
   "outputs": [],
   "source": [
    "df_final = df_final.filter(df_final['experience_level'] != 'Null').join(df, on=['salary_in_usd', 'employee_residence'])"
   ]
  },
  {
   "cell_type": "markdown",
   "id": "variable-twins",
   "metadata": {},
   "source": [
    "print df_final"
   ]
  },
  {
   "cell_type": "code",
   "execution_count": 40,
   "id": "generic-block",
   "metadata": {},
   "outputs": [
    {
     "name": "stdout",
     "output_type": "stream",
     "text": [
      "+-------------+------------------+---+---+----------------+---+---------+----------------+---------------+----------------------+------+---------------+------------+----------------+------------+\n",
      "|salary_in_usd|employee_residence|_c0|id |experience_level|id |work_year|experience_level|employment_type|job_title             |salary|salary_currency|remote_ratio|company_location|company_size|\n",
      "+-------------+------------------+---+---+----------------+---+---------+----------------+---------------+----------------------+------+---------------+------------+----------------+------------+\n",
      "|450000       |US                |2  |33 |Middle          |33 |2020     |MI              |FT             |Research Scientist    |450000|USD            |0           |US              |M           |\n",
      "|412000       |US                |3  |63 |Senior          |63 |2020     |SE              |FT             |Data Scientist        |412000|USD            |100         |US              |L           |\n",
      "|450000       |US                |2  |33 |Middle          |97 |2021     |MI              |FT             |Financial Data Analyst|450000|USD            |100         |US              |L           |\n",
      "+-------------+------------------+---+---+----------------+---+---------+----------------+---------------+----------------------+------+---------------+------------+----------------+------------+\n",
      "\n"
     ]
    },
    {
     "name": "stderr",
     "output_type": "stream",
     "text": [
      "25/01/27 10:58:00 WARN CSVHeaderChecker: CSV header does not conform to the schema.\n",
      " Header: , id, experience_level, salary_in_usd, employee_residence\n",
      " Schema: _c0, id, experience_level, salary_in_usd, employee_residence\n",
      "Expected: _c0 but found: \n",
      "CSV file: file:///home/rewinteer/Documents/Projects/PycharmProjects/Innowise/task-4/PySpark_Basics/1.csv\n",
      "25/01/27 10:58:00 WARN CSVHeaderChecker: CSV header does not conform to the schema.\n",
      " Header: , work_year, experience_level, employment_type, job_title, salary, salary_currency, salary_in_usd, employee_residence, remote_ratio, company_location, company_size\n",
      " Schema: id, work_year, experience_level, employment_type, job_title, salary, salary_currency, salary_in_usd, employee_residence, remote_ratio, company_location, company_size\n",
      "Expected: id but found: \n",
      "CSV file: file:///home/rewinteer/Documents/Projects/PycharmProjects/Innowise/task-4/PySpark_Basics/ds_salaries.csv\n"
     ]
    }
   ],
   "source": [
    "df_final.show(df_final.count(), truncate=False)"
   ]
  },
  {
   "cell_type": "markdown",
   "id": "variable-moore",
   "metadata": {},
   "source": [
    "last task is to save in variable and then print this variable of the biggest salary_in_usd from df_final"
   ]
  },
  {
   "cell_type": "code",
   "execution_count": 56,
   "id": "individual-institution",
   "metadata": {},
   "outputs": [
    {
     "data": {
      "text/plain": [
       "'450000'"
      ]
     },
     "execution_count": 56,
     "metadata": {},
     "output_type": "execute_result"
    }
   ],
   "source": [
    "var = df_final.select(max('salary_in_usd')).collect()[0][0]\n",
    "var"
   ]
  },
  {
   "cell_type": "markdown",
   "id": "stopped-procedure",
   "metadata": {},
   "source": [
    "It is the end of PySpark basics. In other lessons you will learn optimizations technics and how to make distributed system"
   ]
  }
 ],
 "metadata": {
  "kernelspec": {
   "display_name": "Python 3 (ipykernel)",
   "language": "python",
   "name": "python3"
  },
  "language_info": {
   "codemirror_mode": {
    "name": "ipython",
    "version": 3
   },
   "file_extension": ".py",
   "mimetype": "text/x-python",
   "name": "python",
   "nbconvert_exporter": "python",
   "pygments_lexer": "ipython3",
   "version": "3.10.12"
  }
 },
 "nbformat": 4,
 "nbformat_minor": 5
}
