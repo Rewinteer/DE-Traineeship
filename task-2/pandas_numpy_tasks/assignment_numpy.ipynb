{
 "cells": [
  {
   "cell_type": "markdown",
   "id": "d3df79dd",
   "metadata": {},
   "source": [
    "## Упражнения по библиотеке Numpy"
   ]
  },
  {
   "cell_type": "code",
   "execution_count": 1170,
   "id": "76b9c43b",
   "metadata": {},
   "outputs": [],
   "source": [
    "import math\n",
    "import numpy as np\n",
    "import itertools\n",
    "from numpy import random as random\n",
    "\n",
    "def get_random_arr(limit=20):\n",
    "    size = (random.randint(1, limit), random.randint(1, limit))\n",
    "    return random.randint(1, 20, size=size)"
   ]
  },
  {
   "cell_type": "markdown",
   "id": "03727b7c",
   "metadata": {},
   "source": [
    "**1.** Дан случайный массив, поменять знак у элементов, значения которых между 3 и 8"
   ]
  },
  {
   "cell_type": "code",
   "execution_count": 415,
   "id": "b89a7523",
   "metadata": {},
   "outputs": [
    {
     "data": {
      "text/plain": [
       "array([[-5, 15, -6, -5, 16, 13, -7, 18, 15, 19],\n",
       "       [ 1, 17, -6, 18, -6, 19, 12,  8, 14, 11],\n",
       "       [17,  1, 11,  8, 18, 12,  1, 19, 10, 14],\n",
       "       [12, 16, 10, 13, 14,  1, 11, 10, -6, -4],\n",
       "       [14, 10, 15, 11, 17, 18,  2, 14, 16,  1],\n",
       "       [-5, 14, 18, 14, 19, 12,  9,  9, 17, -7],\n",
       "       [-5, -5, 19, -4, 18, 17, 11, 17, 18, 10],\n",
       "       [ 2, -7, 14, 16, 14, -4, -6, 19, 15, 10],\n",
       "       [-6, -6, 14, 17, 12, -4, 17, 13, 18, 18]])"
      ]
     },
     "execution_count": 415,
     "metadata": {},
     "output_type": "execute_result"
    }
   ],
   "source": [
    "arr = get_random_arr()\n",
    "\n",
    "condition = (arr > 3) & (arr < 8)\n",
    "arr[condition] = -arr[condition]\n",
    "arr"
   ]
  },
  {
   "cell_type": "markdown",
   "id": "5fa4abda",
   "metadata": {},
   "source": [
    "**2.** Заменить максимальный элемент случайного массива на 0"
   ]
  },
  {
   "cell_type": "code",
   "execution_count": 419,
   "id": "f2788a6e",
   "metadata": {},
   "outputs": [
    {
     "data": {
      "text/plain": [
       "array([[13,  5, 18,  2,  7, 17,  7, 11,  9,  2, 17,  6, 18, 12,  4,  9,\n",
       "         0],\n",
       "       [ 0,  2,  6,  2,  8, 17,  6,  5,  3,  4, 10,  4, 18, 15, 10, 11,\n",
       "        14],\n",
       "       [ 1,  8, 18, 18,  4, 18, 12,  5,  9, 14,  7, 17, 10,  9, 18,  3,\n",
       "         3],\n",
       "       [ 5,  6,  9,  1,  5,  1,  1,  3,  9,  4,  2,  0, 17,  8, 17,  5,\n",
       "        18],\n",
       "       [ 2,  2, 13, 10, 18,  2,  7,  7, 15,  1, 13, 18,  9, 11, 14, 18,\n",
       "        17],\n",
       "       [17,  2,  9, 13, 13, 14,  9,  3, 16,  9, 15,  1, 13,  1, 14,  2,\n",
       "         7],\n",
       "       [ 0,  9, 13, 16,  0,  0,  4,  0,  0, 11,  8,  9,  7,  4, 14,  8,\n",
       "         9],\n",
       "       [15,  8, 15, 17, 14, 13, 11,  1, 13, 10,  7, 17,  7, 12, 17, 18,\n",
       "         8],\n",
       "       [ 0, 10, 17, 10,  6,  3,  7,  4,  4, 18,  4,  1,  7,  4,  4,  8,\n",
       "         8],\n",
       "       [ 2, 17, 17,  8, 13, 14, 10,  7,  2,  3,  3, 11, 18, 13,  1, 10,\n",
       "        10],\n",
       "       [ 4, 11,  8, 12, 10,  6, 18, 15,  0, 15, 15,  8, 13,  1,  3, 13,\n",
       "        17],\n",
       "       [ 4,  6, 15, 11,  4,  7,  7,  3,  7,  8, 17, 13, 16, 11, 12,  6,\n",
       "        15],\n",
       "       [13, 12, 16,  0,  7,  4, 13,  1, 11,  4, 18, 17,  6,  8,  0,  1,\n",
       "         7]])"
      ]
     },
     "execution_count": 419,
     "metadata": {},
     "output_type": "execute_result"
    }
   ],
   "source": [
    "arr = get_random_arr()\n",
    "max_value = np.max(arr)\n",
    "arr[arr == max_value] = 0\n",
    "arr"
   ]
  },
  {
   "cell_type": "markdown",
   "id": "3cac656b",
   "metadata": {},
   "source": [
    "**3.** Построить прямое произведение массивов (все комбинации с каждым элементом). На вход подается двумерный массив"
   ]
  },
  {
   "cell_type": "code",
   "execution_count": 751,
   "id": "3396b764",
   "metadata": {},
   "outputs": [
    {
     "name": "stdout",
     "output_type": "stream",
     "text": [
      "Array 1:\n",
      "[[ 7  9 15 17]\n",
      " [ 9  1 18 12]]\n",
      "Array 2:\n",
      "[[15  8  2  3]\n",
      " [16 17 19  8]]\n",
      "product:\n",
      "[[105  56  14  21 112 119 133  56]\n",
      " [135  72  18  27 144 153 171  72]\n",
      " [225 120  30  45 240 255 285 120]\n",
      " [255 136  34  51 272 289 323 136]\n",
      " [135  72  18  27 144 153 171  72]\n",
      " [ 15   8   2   3  16  17  19   8]\n",
      " [270 144  36  54 288 306 342 144]\n",
      " [180  96  24  36 192 204 228  96]]\n"
     ]
    }
   ],
   "source": [
    "arr1 = get_random_arr(5)\n",
    "arr2 = get_random_arr(5)\n",
    "print('Array 1:')\n",
    "print(arr1)\n",
    "print('Array 2:')\n",
    "print(arr2)\n",
    "\n",
    "result = arr1.ravel()[:, None] * arr2.ravel()[None, :]\n",
    "print('product:')\n",
    "print(result)\n"
   ]
  },
  {
   "cell_type": "markdown",
   "id": "674c9354",
   "metadata": {},
   "source": [
    "**4.** Даны 2 массива A (8x3) и B (2x2). Найти строки в A, которые содержат элементы из каждой строки в B, независимо от порядка элементов в B"
   ]
  },
  {
   "cell_type": "code",
   "execution_count": 771,
   "id": "cb664782",
   "metadata": {},
   "outputs": [
    {
     "name": "stdout",
     "output_type": "stream",
     "text": [
      "Initial arrays: \n",
      "\n",
      "[[4 1 9]\n",
      " [7 3 9]\n",
      " [1 3 8]\n",
      " [4 5 7]\n",
      " [3 3 3]\n",
      " [8 8 3]\n",
      " [9 9 8]\n",
      " [1 6 7]]\n",
      "\n",
      "[[5 6]\n",
      " [6 9]]\n",
      "\n",
      "Result: \n",
      "\n",
      "[[1 6 7]]\n"
     ]
    }
   ],
   "source": [
    "a = random.randint(1, 10, (8, 3))\n",
    "b = random.randint(1, 10, (2, 2))\n",
    "print('Initial arrays: ', a, b, sep='\\n\\n')\n",
    "\n",
    "condition1 = np.any(np.isin(a, b[0]), axis=1)\n",
    "condition2 = np.any(np.isin(a, b[1]), axis=1)\n",
    "conditions = condition1 & condition2\n",
    "print('\\nResult: \\n')\n",
    "print(a[conditions])"
   ]
  },
  {
   "cell_type": "markdown",
   "id": "fa46533b",
   "metadata": {},
   "source": [
    "**5.** Дана 10x3 матрица, найти строки из неравных значений (например строка [2,2,3] остается, строка [3,3,3] удаляется)"
   ]
  },
  {
   "cell_type": "code",
   "execution_count": 825,
   "id": "fa545b23",
   "metadata": {},
   "outputs": [
    {
     "name": "stdout",
     "output_type": "stream",
     "text": [
      "initial array:\n",
      " [[1 2 1]\n",
      " [1 1 1]\n",
      " [2 1 2]\n",
      " [2 1 1]\n",
      " [1 1 1]\n",
      " [1 1 2]\n",
      " [2 2 2]\n",
      " [1 2 2]\n",
      " [1 1 1]\n",
      " [1 1 2]]\n"
     ]
    },
    {
     "data": {
      "text/plain": [
       "array([[1, 2, 1],\n",
       "       [2, 1, 2],\n",
       "       [2, 1, 1],\n",
       "       [1, 1, 2],\n",
       "       [1, 2, 2],\n",
       "       [1, 1, 2]])"
      ]
     },
     "execution_count": 825,
     "metadata": {},
     "output_type": "execute_result"
    }
   ],
   "source": [
    "a = random.randint(1, 3, (10, 3))\n",
    "print('initial array:\\n', a)\n",
    "condition = np.apply_along_axis(lambda row: len(np.unique(row)) > 1, axis=1, arr=a)\n",
    "a[condition]"
   ]
  },
  {
   "cell_type": "markdown",
   "id": "28f0d116",
   "metadata": {},
   "source": [
    "**6.** Дан двумерный массив. Удалить те строки, которые повторяются"
   ]
  },
  {
   "cell_type": "code",
   "execution_count": 864,
   "id": "83d2c0b7",
   "metadata": {},
   "outputs": [
    {
     "name": "stdout",
     "output_type": "stream",
     "text": [
      "initial array:\n",
      " [[2 2 2]\n",
      " [1 2 2]\n",
      " [2 1 2]\n",
      " [2 2 1]\n",
      " [1 2 2]\n",
      " [2 2 2]\n",
      " [2 2 2]\n",
      " [1 2 2]\n",
      " [1 2 1]\n",
      " [2 1 1]]\n",
      "Result: \n",
      "[[1 2 1]\n",
      " [1 2 2]\n",
      " [2 1 1]\n",
      " [2 1 2]\n",
      " [2 2 1]\n",
      " [2 2 2]]\n"
     ]
    }
   ],
   "source": [
    "a = random.randint(1, 3, (10, 3))\n",
    "print('initial array:\\n', a)\n",
    "\n",
    "print('Result: ')\n",
    "print(np.unique(a, axis=0))"
   ]
  },
  {
   "cell_type": "markdown",
   "id": "6daa9e37",
   "metadata": {},
   "source": [
    "______\n",
    "______"
   ]
  },
  {
   "cell_type": "markdown",
   "id": "cfbfcaff",
   "metadata": {},
   "source": [
    "Для каждой из следующих задач (1-5) нужно привести 2 реализации – одна без использования numpy (cчитайте, что там, где на входе или выходе должны быть numpy array, будут просто списки), а вторая полностью векторизованная с использованием numpy (без использования питоновских циклов/map/list comprehension).\n",
    "\n",
    "\n",
    "__Замечание 1.__ Можно считать, что все указанные объекты непустые (к примеру, в __задаче 1__ на диагонали матрицы есть ненулевые элементы).\n",
    "\n",
    "__Замечание 2.__ Для большинства задач решение занимает не больше 1-2 строк."
   ]
  },
  {
   "cell_type": "markdown",
   "id": "673cac7f",
   "metadata": {},
   "source": [
    "___"
   ]
  },
  {
   "cell_type": "markdown",
   "id": "ca6f585e",
   "metadata": {},
   "source": [
    "* __Задача 1__: Подсчитать произведение ненулевых элементов на диагонали прямоугольной матрицы.  \n",
    " Например, для X = np.array([[1, 0, 1], [2, 0, 2], [3, 0, 3], [4, 4, 4]]) ответ 3."
   ]
  },
  {
   "cell_type": "code",
   "execution_count": 904,
   "id": "065862fc",
   "metadata": {},
   "outputs": [
    {
     "name": "stdout",
     "output_type": "stream",
     "text": [
      "Matrix: \n",
      " [[4 4 3 2 1]\n",
      " [0 1 2 0 1]\n",
      " [4 1 3 0 1]\n",
      " [1 2 0 1 3]\n",
      " [4 0 3 1 1]]\n",
      "Product:  12\n",
      "NumPy Product:  12\n"
     ]
    }
   ],
   "source": [
    "a = random.randint(0, 5, (5, 5))\n",
    "\n",
    "# w/o NumPy\n",
    "print(\"Matrix: \\n\", a)\n",
    "product = 1\n",
    "for i, row in enumerate(a):\n",
    "    value = row[i]\n",
    "    if value != 0:\n",
    "        product *= value\n",
    "print('Product: ', product)\n",
    "\n",
    "# NumPy realization\n",
    "d = np.diag(a)\n",
    "result = np.prod(d[d != 0])\n",
    "print('NumPy Product: ', result)"
   ]
  },
  {
   "cell_type": "markdown",
   "id": "9fc51d41",
   "metadata": {},
   "source": [
    "* __Задача 2__: Даны два вектора x и y. Проверить, задают ли они одно и то же мультимножество.  \n",
    "  Например, для x = np.array([1, 2, 2, 4]), y = np.array([4, 2, 1, 2]) ответ True."
   ]
  },
  {
   "cell_type": "code",
   "execution_count": 1058,
   "id": "a809e02f",
   "metadata": {},
   "outputs": [
    {
     "name": "stdout",
     "output_type": "stream",
     "text": [
      "Arrays: \n",
      "[1 4 4 2 4]\n",
      "\n",
      "[4 1 3 2 0]\n",
      "\n",
      "w/o NumPy result:  False\n",
      "NumPy result:  False\n"
     ]
    }
   ],
   "source": [
    "x = random.randint(0, 5, (5))\n",
    "y = random.randint(0, 5, (5))\n",
    "# x = np.array([1, 2, 2, 4])\n",
    "# y = np.array([4, 2, 1, 2])\n",
    "\n",
    "print(f'Arrays: \\n{x}\\n\\n{y}\\n')\n",
    "\n",
    "# w/o NumPy\n",
    "def is_same_multiset(x, y):\n",
    "    if len(x) != len(y):\n",
    "        return False\n",
    "    x.sort()\n",
    "    y.sort()\n",
    "    for i, e in enumerate(x):\n",
    "        if e != y[i]:\n",
    "            return False\n",
    "    return True\n",
    "\n",
    "result = is_same_multiset(x, y)\n",
    "print('w/o NumPy result: ', result)\n",
    "\n",
    "# NumPy realization\n",
    "def is_same_multiset_numpy(x, y):\n",
    "    # list of numbers, count of numbers\n",
    "    x_nums, x_counts = np.unique(x, return_counts=True)\n",
    "    y_nums, y_counts = np.unique(y, return_counts=True)\n",
    "    if(np.shape(x_nums) != np.shape(y_nums)):\n",
    "        return False\n",
    "    if(np.any(x_nums != y_nums) or np.any(x_counts != y_counts)):\n",
    "        return False\n",
    "    return True\n",
    "\n",
    "result = is_same_multiset_numpy(x, y)\n",
    "print('NumPy result: ', result)"
   ]
  },
  {
   "cell_type": "markdown",
   "id": "b9c185c7",
   "metadata": {},
   "source": [
    "* __Задача 3__: Найти максимальный элемент в векторе x среди элементов, перед которыми стоит ноль. \n",
    " Например, для x = np.array([6, 2, 0, 3, 0, 0, 5, 7, 0]) ответ 5."
   ]
  },
  {
   "cell_type": "code",
   "execution_count": 1082,
   "id": "b57df008",
   "metadata": {},
   "outputs": [
    {
     "name": "stdout",
     "output_type": "stream",
     "text": [
      "result w/o NumPy: \n",
      "4\n",
      "NumPy result: \n",
      "4\n"
     ]
    }
   ],
   "source": [
    "# x = random.randint(0, 5, (10))\n",
    "x = np.array([6, 2, 0, 3, 0, 0, 5, 7, 0, 9])\n",
    "\n",
    "# w/o numpy\n",
    "def max_after_zero(x):\n",
    "    result = 0\n",
    "    for i in range(1, len(x)):\n",
    "        if x[i - 1] == 0 and x[i] > result:\n",
    "            result = x[i]\n",
    "    return result\n",
    "\n",
    "print('result w/o NumPy: ')\n",
    "print(max_after_zero(x))\n",
    "\n",
    "\n",
    "# NumPy realization\n",
    "def max_after_zero_numpy(x):\n",
    "    curr = np.ones((1))\n",
    "    curr = np.hstack((curr, x))\n",
    "    # array of e == 0\n",
    "    ind = curr == 0\n",
    "    arr = x[ind[:-1]]\n",
    "    return np.max(x[ind[:-1]])\n",
    "\n",
    "print('NumPy result: ')\n",
    "print(max_after_zero_numpy(x))"
   ]
  },
  {
   "cell_type": "markdown",
   "id": "480be4ce",
   "metadata": {},
   "source": [
    "* __Задача 4__: Реализовать кодирование длин серий (Run-length encoding). Для некоторого вектора x необходимо вернуть кортеж из двух векторов одинаковой длины. Первый содержит числа, а второй - сколько раз их нужно повторить.  \n",
    " Например, для x = np.array([2, 2, 2, 3, 3, 3, 5]) ответ (np.array([2, 3, 5]), np.array([3, 3, 1]))."
   ]
  },
  {
   "cell_type": "code",
   "execution_count": 1164,
   "id": "3c592124",
   "metadata": {},
   "outputs": [
    {
     "name": "stdout",
     "output_type": "stream",
     "text": [
      "Result w/o NumPy:  ([2, 1, 8, 3, 5], [4, 2, 2, 4, 2])\n",
      "Result with NumPy:  (array([2, 1, 8, 3, 5]), array([4, 2, 2, 4, 2]))\n"
     ]
    }
   ],
   "source": [
    "x = np.array([2, 2, 2, 2, 1, 1, 8, 8, 3, 3, 3, 3, 5, 5])\n",
    "\n",
    "# w/o NumPy\n",
    "def length_encoding(x):\n",
    "    curr = x[0]\n",
    "    count = 0\n",
    "    counts = []\n",
    "    numbers = [curr]\n",
    "    for e in x:\n",
    "        if e == curr:\n",
    "            count += 1\n",
    "        else:\n",
    "            curr = e\n",
    "            counts.append(count)\n",
    "            numbers.append(e)\n",
    "            count = 1\n",
    "    counts.append(count)\n",
    "    return (numbers, counts)\n",
    "\n",
    "result = length_encoding(x)\n",
    "print(\"Result w/o NumPy: \", result)\n",
    "\n",
    "# NumPy realization:\n",
    "def length_encoding_numpy(x):\n",
    "    numbers, ind, count = np.unique(x, return_index=True, return_counts=True)\n",
    "    numbers = numbers[np.argsort(ind)]\n",
    "    count = count[np.argsort(ind)]\n",
    "    return (numbers, count)\n",
    "\n",
    "result = length_encoding_numpy(x)\n",
    "print(\"Result with NumPy: \", result)\n",
    "    "
   ]
  },
  {
   "cell_type": "markdown",
   "id": "077532ec",
   "metadata": {},
   "source": [
    "* __Задача 5__: Даны две выборки объектов - X и Y. Вычислить матрицу евклидовых расстояний между объектами. Сравните с функцией scipy.spatial.distance.cdist по скорости работы."
   ]
  },
  {
   "cell_type": "code",
   "execution_count": 1183,
   "id": "1e807797",
   "metadata": {},
   "outputs": [
    {
     "name": "stdout",
     "output_type": "stream",
     "text": [
      "Initial objects:\n",
      "\n",
      "[[4 2]\n",
      " [4 2]\n",
      " [2 2]]\n",
      "[[5 2]\n",
      " [2 5]\n",
      " [1 5]] \n",
      "\n",
      "result: \n",
      " [[1.0, 3.605551275463989, 4.242640687119285], [1.0, 3.605551275463989, 4.242640687119285], [3.0, 3.0, 3.1622776601683795]]\n",
      "result: \n",
      " [[1.         3.60555128 4.24264069]\n",
      " [1.         3.60555128 4.24264069]\n",
      " [3.         3.         3.16227766]]\n"
     ]
    }
   ],
   "source": [
    "x = random.randint(1, 6, (3, 2))\n",
    "y = random.randint(1, 6, (3, 2))\n",
    "print(\"Initial objects:\\n\")\n",
    "print(x)\n",
    "print(y, '\\n')\n",
    "\n",
    "# w/o NumPy\n",
    "def euclidean_matrix(x, y):\n",
    "    result_matr = list()\n",
    "    for i in range(len(x)):\n",
    "        curr_list = list()\n",
    "        for j in range(len(y)):\n",
    "            dist = 0\n",
    "            for k in range(len(x[0])):\n",
    "                dist += (x[i][k] - y[j][k]) ** 2\n",
    "            curr_list.append(math.sqrt(dist))\n",
    "        result_matr.append(curr_list)\n",
    "    return result_matr\n",
    "print(\"result: \\n\", euclidean_matrix(x, y))\n",
    "\n",
    "# NumPy realization\n",
    "def euclidean_matrix_numpy(x, y):\n",
    "    result = np.sqrt(np.sum((x[:, np.newaxis] - y) ** 2, axis=-1))\n",
    "    return result\n",
    "print(\"result: \\n\", euclidean_matrix_numpy(x, y))\n"
   ]
  },
  {
   "cell_type": "markdown",
   "id": "973e8064",
   "metadata": {},
   "source": [
    "_______\n",
    "________"
   ]
  },
  {
   "cell_type": "markdown",
   "id": "1104acb7",
   "metadata": {},
   "source": [
    "* #### __Задача 6__: CrunchieMunchies __*__\n",
    "\n",
    "Вы работаете в отделе маркетинга пищевой компании MyCrunch, которая разрабатывает новый вид вкусных, полезных злаков под названием **CrunchieMunchies**.\n",
    "\n",
    "Вы хотите продемонстрировать потребителям, насколько полезны ваши хлопья по сравнению с другими ведущими брендами, поэтому вы собрали данные о питании нескольких разных конкурентов.\n",
    "\n",
    "Ваша задача - использовать вычисления Numpy для анализа этих данных и доказать, что ваши **СrunchieMunchies** - самый здоровый выбор для потребителей.\n"
   ]
  },
  {
   "cell_type": "code",
   "execution_count": 77,
   "id": "10a77f8d",
   "metadata": {},
   "outputs": [],
   "source": [
    "import numpy as np"
   ]
  },
  {
   "cell_type": "markdown",
   "id": "ab87cb03",
   "metadata": {},
   "source": [
    "1. Просмотрите файл cereal.csv. Этот файл содержит количества калорий для различных марок хлопьев. Загрузите данные из файла и сохраните их как calorie_stats."
   ]
  },
  {
   "cell_type": "code",
   "execution_count": 170,
   "id": "9681ebf2",
   "metadata": {},
   "outputs": [
    {
     "data": {
      "text/plain": [
       "array([ 70., 120.,  70.,  50., 110., 110., 110., 130.,  90.,  90., 120.,\n",
       "       110., 120., 110., 110., 110., 100., 110., 110., 110., 100., 110.,\n",
       "       100., 100., 110., 110., 100., 120., 120., 110., 100., 110., 100.,\n",
       "       110., 120., 120., 110., 110., 110., 140., 110., 100., 110., 100.,\n",
       "       150., 150., 160., 100., 120., 140.,  90., 130., 120., 100.,  50.,\n",
       "        50., 100., 100., 120., 100.,  90., 110., 110.,  80.,  90.,  90.,\n",
       "       110., 110.,  90., 110., 140., 100., 110., 110., 100., 100., 110.])"
      ]
     },
     "execution_count": 170,
     "metadata": {},
     "output_type": "execute_result"
    }
   ],
   "source": [
    "calorie_stats = np.loadtxt(\"./data/cereal.csv\", delimiter=\",\")\n",
    "calorie_stats"
   ]
  },
  {
   "cell_type": "markdown",
   "id": "139cfbd8",
   "metadata": {},
   "source": [
    "2. В одной порции CrunchieMunchies содержится 60 калорий. Насколько выше среднее количество калорий у ваших конкурентов?\n",
    "\n",
    "Сохраните ответ в переменной average_calories и распечатайте переменную в терминале"
   ]
  },
  {
   "cell_type": "code",
   "execution_count": 161,
   "id": "7036d240",
   "metadata": {},
   "outputs": [],
   "source": [
    "# your code"
   ]
  },
  {
   "cell_type": "markdown",
   "id": "b2ddb4cd",
   "metadata": {},
   "source": [
    "3. Корректно ли среднее количество калорий отражает распределение набора данных? Давайте отсортируем данные и посмотрим.\n",
    "\n",
    "Отсортируйте данные и сохраните результат в переменной calorie_stats_sorted. Распечатайте отсортированную информацию"
   ]
  },
  {
   "cell_type": "code",
   "execution_count": 162,
   "id": "46eeb4ed",
   "metadata": {},
   "outputs": [],
   "source": [
    "# your code"
   ]
  },
  {
   "cell_type": "markdown",
   "id": "4dc74116",
   "metadata": {},
   "source": [
    "4. Похоже, что большинство значений выше среднего. Давайте посмотрим, является ли медиана наиболее корректным показателем набора данных.\n",
    "\n",
    "Вычислите медиану набора данных и сохраните свой ответ в median_calories. Выведите медиану, чтобы вы могли видеть, как она сравнивается со средним значением."
   ]
  },
  {
   "cell_type": "code",
   "execution_count": 163,
   "id": "b56627c3",
   "metadata": {},
   "outputs": [],
   "source": [
    "# your code"
   ]
  },
  {
   "cell_type": "markdown",
   "id": "a63ab72f",
   "metadata": {},
   "source": [
    "5. В то время как медиана показывает, что по крайней мере половина наших значений составляет более 100 калорий, было бы более впечатляюще показать, что значительная часть конкурентов имеет более высокое количество калорий, чем CrunchieMunchies.\n",
    "\n",
    "Рассчитайте различные процентили и распечатайте их, пока не найдете наименьший процентиль, превышающий 60 калорий. Сохраните это значение в переменной nth_percentile."
   ]
  },
  {
   "cell_type": "code",
   "execution_count": 164,
   "id": "fe80ce03",
   "metadata": {},
   "outputs": [],
   "source": [
    "# your code"
   ]
  },
  {
   "cell_type": "markdown",
   "id": "a2a3c5aa",
   "metadata": {},
   "source": [
    "6. Хотя процентиль показывает нам, что у большинства конкурентов количество калорий намного выше, это неудобная концепция для использования в маркетинговых материалах.\n",
    "\n",
    "Вместо этого давайте подсчитаем процент хлопьев, в которых содержится более 60 калорий на порцию. Сохраните свой ответ в переменной more_calories и распечатайте его"
   ]
  },
  {
   "cell_type": "code",
   "execution_count": 165,
   "id": "ade0f6ea",
   "metadata": {},
   "outputs": [],
   "source": [
    "# your code"
   ]
  },
  {
   "cell_type": "markdown",
   "id": "1735d65b",
   "metadata": {},
   "source": [
    "7. Это действительно высокий процент. Это будет очень полезно, когда мы будем продвигать CrunchieMunchies. Но один вопрос заключается в том, насколько велики различия в наборе данных? Можем ли мы сделать обобщение, что в большинстве злаков содержится около 100 калорий или разброс еще больше?\n",
    "\n",
    "Рассчитайте величину отклонения, найдя стандартное отклонение, Сохраните свой ответ в calorie_std и распечатайте на терминале. Как мы можем включить эту ценность в наш анализ?"
   ]
  },
  {
   "cell_type": "code",
   "execution_count": 166,
   "id": "85c8df1f",
   "metadata": {},
   "outputs": [],
   "source": [
    "# your code"
   ]
  },
  {
   "cell_type": "markdown",
   "id": "037455c5",
   "metadata": {},
   "source": [
    "8. Напишите короткий абзац, в котором кратко изложите свои выводы и то, как, по вашему мнению, эти данные могут быть использованы в интересах Mycrunch при маркетинге CrunchieMunchies."
   ]
  },
  {
   "cell_type": "code",
   "execution_count": 167,
   "id": "c260fee9",
   "metadata": {},
   "outputs": [],
   "source": [
    "# your code"
   ]
  }
 ],
 "metadata": {
  "kernelspec": {
   "display_name": "Python 3 (ipykernel)",
   "language": "python",
   "name": "python3"
  },
  "language_info": {
   "codemirror_mode": {
    "name": "ipython",
    "version": 3
   },
   "file_extension": ".py",
   "mimetype": "text/x-python",
   "name": "python",
   "nbconvert_exporter": "python",
   "pygments_lexer": "ipython3",
   "version": "3.10.12"
  }
 },
 "nbformat": 4,
 "nbformat_minor": 5
}
